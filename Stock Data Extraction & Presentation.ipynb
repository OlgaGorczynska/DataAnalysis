{
 "cells": [
  {
   "cell_type": "markdown",
   "id": "64bedc99",
   "metadata": {},
   "source": [
    "## Stock Data Comparison: Tesla vs. GameStop"
   ]
  },
  {
   "cell_type": "markdown",
   "id": "e1f7aa7f",
   "metadata": {},
   "source": [
    "#### Importing all necessary libraries"
   ]
  },
  {
   "cell_type": "code",
   "execution_count": 1,
   "id": "020ff3a4",
   "metadata": {},
   "outputs": [],
   "source": [
    "import pandas as pd\n",
    "import requests\n",
    "from bs4 import BeautifulSoup\n",
    "import seaborn as sn\n",
    "import yfinance as yf\n",
    "import matplotlib.pyplot as plt"
   ]
  },
  {
   "cell_type": "markdown",
   "id": "642c4dff",
   "metadata": {},
   "source": [
    "#### Extracting Stock Data for Tesla"
   ]
  },
  {
   "cell_type": "code",
   "execution_count": 2,
   "id": "ea80a753",
   "metadata": {},
   "outputs": [
    {
     "data": {
      "text/html": [
       "<div>\n",
       "<style scoped>\n",
       "    .dataframe tbody tr th:only-of-type {\n",
       "        vertical-align: middle;\n",
       "    }\n",
       "\n",
       "    .dataframe tbody tr th {\n",
       "        vertical-align: top;\n",
       "    }\n",
       "\n",
       "    .dataframe thead th {\n",
       "        text-align: right;\n",
       "    }\n",
       "</style>\n",
       "<table border=\"1\" class=\"dataframe\">\n",
       "  <thead>\n",
       "    <tr style=\"text-align: right;\">\n",
       "      <th></th>\n",
       "      <th>Date</th>\n",
       "      <th>Open</th>\n",
       "      <th>High</th>\n",
       "      <th>Low</th>\n",
       "      <th>Close</th>\n",
       "      <th>Volume</th>\n",
       "      <th>Dividends</th>\n",
       "      <th>Stock Splits</th>\n",
       "    </tr>\n",
       "  </thead>\n",
       "  <tbody>\n",
       "    <tr>\n",
       "      <th>137</th>\n",
       "      <td>2021-11-01</td>\n",
       "      <td>1145.000000</td>\n",
       "      <td>1243.489990</td>\n",
       "      <td>978.599976</td>\n",
       "      <td>1144.760010</td>\n",
       "      <td>649111500.0</td>\n",
       "      <td>0</td>\n",
       "      <td>0.0</td>\n",
       "    </tr>\n",
       "    <tr>\n",
       "      <th>138</th>\n",
       "      <td>2021-12-01</td>\n",
       "      <td>1160.699951</td>\n",
       "      <td>1172.839966</td>\n",
       "      <td>886.119995</td>\n",
       "      <td>1056.780029</td>\n",
       "      <td>510055900.0</td>\n",
       "      <td>0</td>\n",
       "      <td>0.0</td>\n",
       "    </tr>\n",
       "    <tr>\n",
       "      <th>139</th>\n",
       "      <td>2022-01-01</td>\n",
       "      <td>1147.750000</td>\n",
       "      <td>1208.000000</td>\n",
       "      <td>792.010010</td>\n",
       "      <td>936.719971</td>\n",
       "      <td>638668800.0</td>\n",
       "      <td>0</td>\n",
       "      <td>0.0</td>\n",
       "    </tr>\n",
       "    <tr>\n",
       "      <th>140</th>\n",
       "      <td>2022-02-01</td>\n",
       "      <td>935.210022</td>\n",
       "      <td>947.770020</td>\n",
       "      <td>700.000000</td>\n",
       "      <td>870.429993</td>\n",
       "      <td>463708900.0</td>\n",
       "      <td>0</td>\n",
       "      <td>0.0</td>\n",
       "    </tr>\n",
       "    <tr>\n",
       "      <th>141</th>\n",
       "      <td>2022-03-01</td>\n",
       "      <td>869.679993</td>\n",
       "      <td>1114.770020</td>\n",
       "      <td>756.039978</td>\n",
       "      <td>1077.599976</td>\n",
       "      <td>576424300.0</td>\n",
       "      <td>0</td>\n",
       "      <td>0.0</td>\n",
       "    </tr>\n",
       "  </tbody>\n",
       "</table>\n",
       "</div>"
      ],
      "text/plain": [
       "          Date         Open         High         Low        Close  \\\n",
       "137 2021-11-01  1145.000000  1243.489990  978.599976  1144.760010   \n",
       "138 2021-12-01  1160.699951  1172.839966  886.119995  1056.780029   \n",
       "139 2022-01-01  1147.750000  1208.000000  792.010010   936.719971   \n",
       "140 2022-02-01   935.210022   947.770020  700.000000   870.429993   \n",
       "141 2022-03-01   869.679993  1114.770020  756.039978  1077.599976   \n",
       "\n",
       "          Volume  Dividends  Stock Splits  \n",
       "137  649111500.0          0           0.0  \n",
       "138  510055900.0          0           0.0  \n",
       "139  638668800.0          0           0.0  \n",
       "140  463708900.0          0           0.0  \n",
       "141  576424300.0          0           0.0  "
      ]
     },
     "execution_count": 2,
     "metadata": {},
     "output_type": "execute_result"
    }
   ],
   "source": [
    "tesla = yf.Ticker('TSLA')\n",
    "tesla_data = tesla.history(interval = \"1mo\", start = \"2009-06-30\", end = \"2022-03-31\")\n",
    "tesla_data.reset_index(inplace=True)\n",
    "tesla_data.tail()"
   ]
  },
  {
   "cell_type": "markdown",
   "id": "052a61d6",
   "metadata": {},
   "source": [
    "#### Extracting Stock Data for GME"
   ]
  },
  {
   "cell_type": "code",
   "execution_count": 11,
   "id": "cdf080d7",
   "metadata": {},
   "outputs": [
    {
     "data": {
      "text/html": [
       "<div>\n",
       "<style scoped>\n",
       "    .dataframe tbody tr th:only-of-type {\n",
       "        vertical-align: middle;\n",
       "    }\n",
       "\n",
       "    .dataframe tbody tr th {\n",
       "        vertical-align: top;\n",
       "    }\n",
       "\n",
       "    .dataframe thead th {\n",
       "        text-align: right;\n",
       "    }\n",
       "</style>\n",
       "<table border=\"1\" class=\"dataframe\">\n",
       "  <thead>\n",
       "    <tr style=\"text-align: right;\">\n",
       "      <th></th>\n",
       "      <th>Date</th>\n",
       "      <th>Open</th>\n",
       "      <th>High</th>\n",
       "      <th>Low</th>\n",
       "      <th>Close</th>\n",
       "      <th>Volume</th>\n",
       "      <th>Dividends</th>\n",
       "      <th>Stock Splits</th>\n",
       "    </tr>\n",
       "  </thead>\n",
       "  <tbody>\n",
       "    <tr>\n",
       "      <th>180</th>\n",
       "      <td>2021-11-01</td>\n",
       "      <td>182.529999</td>\n",
       "      <td>255.690002</td>\n",
       "      <td>182.050003</td>\n",
       "      <td>196.210007</td>\n",
       "      <td>53297100.0</td>\n",
       "      <td>0.0</td>\n",
       "      <td>0</td>\n",
       "    </tr>\n",
       "    <tr>\n",
       "      <th>181</th>\n",
       "      <td>2021-12-01</td>\n",
       "      <td>199.399994</td>\n",
       "      <td>200.110001</td>\n",
       "      <td>129.500000</td>\n",
       "      <td>148.389999</td>\n",
       "      <td>59494000.0</td>\n",
       "      <td>0.0</td>\n",
       "      <td>0</td>\n",
       "    </tr>\n",
       "    <tr>\n",
       "      <th>182</th>\n",
       "      <td>2022-01-01</td>\n",
       "      <td>149.229996</td>\n",
       "      <td>160.309998</td>\n",
       "      <td>86.290001</td>\n",
       "      <td>108.930000</td>\n",
       "      <td>84623200.0</td>\n",
       "      <td>0.0</td>\n",
       "      <td>0</td>\n",
       "    </tr>\n",
       "    <tr>\n",
       "      <th>183</th>\n",
       "      <td>2022-02-01</td>\n",
       "      <td>113.010002</td>\n",
       "      <td>132.850006</td>\n",
       "      <td>95.080002</td>\n",
       "      <td>123.339996</td>\n",
       "      <td>46284300.0</td>\n",
       "      <td>0.0</td>\n",
       "      <td>0</td>\n",
       "    </tr>\n",
       "    <tr>\n",
       "      <th>184</th>\n",
       "      <td>2022-03-01</td>\n",
       "      <td>122.190002</td>\n",
       "      <td>199.410004</td>\n",
       "      <td>77.580002</td>\n",
       "      <td>166.580002</td>\n",
       "      <td>159143700.0</td>\n",
       "      <td>0.0</td>\n",
       "      <td>0</td>\n",
       "    </tr>\n",
       "  </tbody>\n",
       "</table>\n",
       "</div>"
      ],
      "text/plain": [
       "          Date        Open        High         Low       Close       Volume  \\\n",
       "180 2021-11-01  182.529999  255.690002  182.050003  196.210007   53297100.0   \n",
       "181 2021-12-01  199.399994  200.110001  129.500000  148.389999   59494000.0   \n",
       "182 2022-01-01  149.229996  160.309998   86.290001  108.930000   84623200.0   \n",
       "183 2022-02-01  113.010002  132.850006   95.080002  123.339996   46284300.0   \n",
       "184 2022-03-01  122.190002  199.410004   77.580002  166.580002  159143700.0   \n",
       "\n",
       "     Dividends  Stock Splits  \n",
       "180        0.0             0  \n",
       "181        0.0             0  \n",
       "182        0.0             0  \n",
       "183        0.0             0  \n",
       "184        0.0             0  "
      ]
     },
     "execution_count": 11,
     "metadata": {},
     "output_type": "execute_result"
    }
   ],
   "source": [
    "GameStop = yf.Ticker(\"GME\")\n",
    "gme_data = GameStop.history(interval = \"1mo\", start =\"2009-01-31\", end = \"2022-03-31\")\n",
    "gme_data.reset_index(inplace=True)\n",
    "gme_data.tail()"
   ]
  },
  {
   "cell_type": "markdown",
   "id": "d949679b",
   "metadata": {},
   "source": [
    "#### Extracting Tesla Revenue Data"
   ]
  },
  {
   "cell_type": "code",
   "execution_count": 4,
   "id": "1a088528",
   "metadata": {},
   "outputs": [
    {
     "data": {
      "text/html": [
       "<div>\n",
       "<style scoped>\n",
       "    .dataframe tbody tr th:only-of-type {\n",
       "        vertical-align: middle;\n",
       "    }\n",
       "\n",
       "    .dataframe tbody tr th {\n",
       "        vertical-align: top;\n",
       "    }\n",
       "\n",
       "    .dataframe thead th {\n",
       "        text-align: right;\n",
       "    }\n",
       "</style>\n",
       "<table border=\"1\" class=\"dataframe\">\n",
       "  <thead>\n",
       "    <tr style=\"text-align: right;\">\n",
       "      <th></th>\n",
       "      <th>Date</th>\n",
       "      <th>Revenue</th>\n",
       "    </tr>\n",
       "  </thead>\n",
       "  <tbody>\n",
       "    <tr>\n",
       "      <th>0</th>\n",
       "      <td>2022-03-31</td>\n",
       "      <td>18756</td>\n",
       "    </tr>\n",
       "    <tr>\n",
       "      <th>1</th>\n",
       "      <td>2021-12-31</td>\n",
       "      <td>15339</td>\n",
       "    </tr>\n",
       "    <tr>\n",
       "      <th>2</th>\n",
       "      <td>2021-09-30</td>\n",
       "      <td>13757</td>\n",
       "    </tr>\n",
       "    <tr>\n",
       "      <th>3</th>\n",
       "      <td>2021-06-30</td>\n",
       "      <td>11958</td>\n",
       "    </tr>\n",
       "    <tr>\n",
       "      <th>4</th>\n",
       "      <td>2021-03-31</td>\n",
       "      <td>10389</td>\n",
       "    </tr>\n",
       "  </tbody>\n",
       "</table>\n",
       "</div>"
      ],
      "text/plain": [
       "         Date Revenue\n",
       "0  2022-03-31   18756\n",
       "1  2021-12-31   15339\n",
       "2  2021-09-30   13757\n",
       "3  2021-06-30   11958\n",
       "4  2021-03-31   10389"
      ]
     },
     "execution_count": 4,
     "metadata": {},
     "output_type": "execute_result"
    }
   ],
   "source": [
    "url = 'https://www.macrotrends.net/stocks/charts/TSLA/tesla/revenue'\n",
    "tesla_revenue = pd.read_html(url)[1]\n",
    "tesla_revenue.columns = [\"Date\", \"Revenue\"]\n",
    "tesla_revenue[\"Revenue\"] = tesla_revenue['Revenue'].str.replace(',|\\$',\"\", regex = True)\n",
    "tesla_revenue.dropna(inplace=True)\n",
    "tesla_revenue = tesla_revenue[tesla_revenue['Revenue'] != \"\"]\n",
    "tesla_revenue.head()\n"
   ]
  },
  {
   "cell_type": "markdown",
   "id": "795c821a",
   "metadata": {},
   "source": [
    "#### Exracting GME Revenue Data"
   ]
  },
  {
   "cell_type": "code",
   "execution_count": 5,
   "id": "dc3a05c5",
   "metadata": {},
   "outputs": [
    {
     "data": {
      "text/html": [
       "<div>\n",
       "<style scoped>\n",
       "    .dataframe tbody tr th:only-of-type {\n",
       "        vertical-align: middle;\n",
       "    }\n",
       "\n",
       "    .dataframe tbody tr th {\n",
       "        vertical-align: top;\n",
       "    }\n",
       "\n",
       "    .dataframe thead th {\n",
       "        text-align: right;\n",
       "    }\n",
       "</style>\n",
       "<table border=\"1\" class=\"dataframe\">\n",
       "  <thead>\n",
       "    <tr style=\"text-align: right;\">\n",
       "      <th></th>\n",
       "      <th>Date</th>\n",
       "      <th>Revenue</th>\n",
       "    </tr>\n",
       "  </thead>\n",
       "  <tbody>\n",
       "    <tr>\n",
       "      <th>0</th>\n",
       "      <td>2022-01-31</td>\n",
       "      <td>2254</td>\n",
       "    </tr>\n",
       "    <tr>\n",
       "      <th>1</th>\n",
       "      <td>2021-10-31</td>\n",
       "      <td>1297</td>\n",
       "    </tr>\n",
       "    <tr>\n",
       "      <th>2</th>\n",
       "      <td>2021-07-31</td>\n",
       "      <td>1183</td>\n",
       "    </tr>\n",
       "    <tr>\n",
       "      <th>3</th>\n",
       "      <td>2021-04-30</td>\n",
       "      <td>1277</td>\n",
       "    </tr>\n",
       "    <tr>\n",
       "      <th>4</th>\n",
       "      <td>2021-01-31</td>\n",
       "      <td>2122</td>\n",
       "    </tr>\n",
       "  </tbody>\n",
       "</table>\n",
       "</div>"
      ],
      "text/plain": [
       "         Date Revenue\n",
       "0  2022-01-31    2254\n",
       "1  2021-10-31    1297\n",
       "2  2021-07-31    1183\n",
       "3  2021-04-30    1277\n",
       "4  2021-01-31    2122"
      ]
     },
     "execution_count": 5,
     "metadata": {},
     "output_type": "execute_result"
    }
   ],
   "source": [
    "url = (\"https://www.macrotrends.net/stocks/charts/GME/gamestop/revenue\")\n",
    "gme_revenue = pd.read_html(url)[1]\n",
    "gme_revenue.columns = [\"Date\", \"Revenue\"]\n",
    "gme_revenue[\"Revenue\"]  = gme_revenue[\"Revenue\"].str.replace(',|\\$',\"\",regex = True)\n",
    "gme_revenue.dropna(inplace = True)\n",
    "gme_revenue = gme_revenue[gme_revenue['Revenue'] != \"\"]\n",
    "gme_revenue.head()"
   ]
  },
  {
   "cell_type": "markdown",
   "id": "961cb37c",
   "metadata": {},
   "source": [
    "#### Plotting graphs"
   ]
  },
  {
   "cell_type": "code",
   "execution_count": 6,
   "id": "ab58a310",
   "metadata": {},
   "outputs": [],
   "source": [
    "tesla_revenue[\"Date\"] = pd.to_datetime(tesla_revenue[\"Date\"])\n",
    "tesla_revenue[\"Revenue\"] = pd.to_numeric(tesla_revenue[\"Revenue\"])\n",
    "gme_revenue[\"Date\"] = pd.to_datetime(gme_revenue[\"Date\"])\n",
    "gme_revenue[\"Revenue\"] = pd.to_numeric(gme_revenue[\"Revenue\"])"
   ]
  },
  {
   "cell_type": "code",
   "execution_count": 7,
   "id": "0b3489d8",
   "metadata": {},
   "outputs": [],
   "source": [
    "sn.set_style(\"whitegrid\")"
   ]
  },
  {
   "cell_type": "code",
   "execution_count": 8,
   "id": "d354640b",
   "metadata": {},
   "outputs": [
    {
     "data": {
      "image/png": "[encoded data removed]",
      "text/plain": [
       "<Figure size 1080x360 with 1 Axes>"
      ]
     },
     "metadata": {},
     "output_type": "display_data"
    }
   ],
   "source": [
    "fig = plt.figure(figsize=(15,5))\n",
    "ax = fig.add_subplot(111)\n",
    "sn.lineplot(data = tesla_revenue, x = 'Date', y= 'Revenue', label = \"Tesla\")\n",
    "sn.lineplot(data = gme_revenue, x = 'Date', y= 'Revenue', label = \"GameStop\")\n",
    "plt.title(\"Historical Revenue\", fontsize = 20)\n",
    "plt.grid(axis = 'x')\n",
    "plt.legend(fontsize = 13)\n",
    "plt.show()"
   ]
  },
  {
   "cell_type": "code",
   "execution_count": 9,
   "id": "c462cec5",
   "metadata": {},
   "outputs": [
    {
     "data": {
      "image/png": "[encoded data removed]",
      "text/plain": [
       "<Figure size 1080x360 with 1 Axes>"
      ]
     },
     "metadata": {},
     "output_type": "display_data"
    }
   ],
   "source": [
    "fig = plt.figure(figsize=(15,5))\n",
    "ax = fig.add_subplot(111)\n",
    "sn.lineplot(data = tesla_data, x = 'Date', y= 'Close', label = \"Tesla\")\n",
    "sn.lineplot(data = gme_data, x = 'Date', y= 'Close', label = \"GameStop\")\n",
    "plt.title(\"Historical Stock Price\", fontsize = 20)\n",
    "plt.grid(axis = 'x')\n",
    "plt.legend(fontsize = 13)\n",
    "plt.show()"
   ]
  },
  {
   "cell_type": "markdown",
   "id": "42ce70a8",
   "metadata": {},
   "source": [
    "#### Conclusion: \n",
    "It is visible that Tesla stock price rises with its revenue. When it comes to GameStop stock price increase in 2021 we can see it has nothing to do with the revenue that they make, which can be further proved with some statistics."
   ]
  },
  {
   "cell_type": "code",
   "execution_count": null,
   "id": "f29ac24b",
   "metadata": {},
   "outputs": [],
   "source": []
  }
 ],
 "metadata": {
  "kernelspec": {
   "display_name": "Python 3 (ipykernel)",
   "language": "python",
   "name": "python3"
  },
  "language_info": {
   "codemirror_mode": {
    "name": "ipython",
    "version": 3
   },
   "file_extension": ".py",
   "mimetype": "text/x-python",
   "name": "python",
   "nbconvert_exporter": "python",
   "pygments_lexer": "ipython3",
   "version": "3.10.2"
  }
 },
 "nbformat": 4,
 "nbformat_minor": 5
}
